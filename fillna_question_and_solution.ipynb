{
 "cells": [
  {
   "cell_type": "code",
   "execution_count": 1,
   "id": "770db547",
   "metadata": {},
   "outputs": [],
   "source": [
    "import pandas as pd\n",
    "\n",
    "# create the DataFrame\n",
    "df = pd.DataFrame({'date': ['01/01/2022', '02/01/2022', '03/01/2022', '04/01/2022', '01/01/2022', '02/01/2022', '03/01/2022', '04/01/2022'],\n",
    "                   'fruit': ['Banana', 'Banana', 'Banana', 'Banana', 'Mango', 'Mango', 'Mango', 'Mango'],\n",
    "                   'price': [0.7, None, None, 1.2, None, 2.2, 2, 1.8]})\n",
    "\n"
   ]
  },
  {
   "cell_type": "code",
   "execution_count": 2,
   "id": "449f8097",
   "metadata": {},
   "outputs": [
    {
     "data": {
      "text/plain": [
       "fruit\n",
       "Banana    0.95\n",
       "Mango     2.00\n",
       "Name: price, dtype: float64"
      ]
     },
     "execution_count": 2,
     "metadata": {},
     "output_type": "execute_result"
    }
   ],
   "source": [
    "# calculate the average price for each fruit\n",
    "fruit_avg_price = df.groupby('fruit')['price'].mean()\n",
    "\n",
    "fruit_avg_price"
   ]
  },
  {
   "cell_type": "code",
   "execution_count": 3,
   "id": "5eff03eb",
   "metadata": {},
   "outputs": [],
   "source": [
    "# replace the null values in the price column with the average price for each fruit\n",
    "df['price'] = df.apply(lambda row: fruit_avg_price[row['fruit']] if pd.isna(row['price']) else row['price'], axis=1)\n",
    "\n"
   ]
  },
  {
   "cell_type": "code",
   "execution_count": 4,
   "id": "89a40f3a",
   "metadata": {},
   "outputs": [
    {
     "name": "stdout",
     "output_type": "stream",
     "text": [
      "         date   fruit  price\n",
      "0  01/01/2022  Banana   0.70\n",
      "1  02/01/2022  Banana   0.95\n",
      "2  03/01/2022  Banana   0.95\n",
      "3  04/01/2022  Banana   1.20\n",
      "4  01/01/2022   Mango   2.00\n",
      "5  02/01/2022   Mango   2.20\n",
      "6  03/01/2022   Mango   2.00\n",
      "7  04/01/2022   Mango   1.80\n"
     ]
    }
   ],
   "source": [
    "# print the updated DataFrame\n",
    "print(df)"
   ]
  },
  {
   "cell_type": "code",
   "execution_count": null,
   "id": "48b837f2",
   "metadata": {},
   "outputs": [],
   "source": []
  }
 ],
 "metadata": {
  "kernelspec": {
   "display_name": "Python 3 (ipykernel)",
   "language": "python",
   "name": "python3"
  },
  "language_info": {
   "codemirror_mode": {
    "name": "ipython",
    "version": 3
   },
   "file_extension": ".py",
   "mimetype": "text/x-python",
   "name": "python",
   "nbconvert_exporter": "python",
   "pygments_lexer": "ipython3",
   "version": "3.9.7"
  }
 },
 "nbformat": 4,
 "nbformat_minor": 5
}
